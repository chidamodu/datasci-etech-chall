{
 "cells": [
  {
   "cell_type": "markdown",
   "metadata": {},
   "source": [
    "Code for San Francisco\n",
    "# Clean Energy Challenge\n",
    "\n",
    "Purpose¶\n",
    "The purpose of this notebook is to create a quick model to predict townships that do not already have solar that are likely to be successful for solar investment\n",
    "\n",
    "Looking for input variables in the areas of:\n",
    "- Income - number of households who have income out of population (used employment as proxy)\n",
    "- Payment systems available (too broad)\n",
    "- Grid or alternative energy\n",
    "- Market size, population\n",
    "\n",
    "Output\n",
    "- Yes/no boolean willing to pay\n",
    "- Amount willing to pay\n",
    "- Predicted success of solar\n",
    "\n",
    "Proxy potentials\n",
    "- Number of households who are already paying for light via non electricity (battery, candle) \n",
    "- How much households are paying for substitute light products by product\n",
    "- Number of households who are already paying for communication channels via non electricity\n",
    "- Number of households who are already paying for cooking utilies via non electricity\n",
    "\n",
    "Preferred granularity\n",
    "- Township\n",
    "- Annual"
   ]
  },
  {
   "cell_type": "code",
   "execution_count": null,
   "metadata": {
    "collapsed": true
   },
   "outputs": [],
   "source": [
    "from __future__ import absolute_import, division, print_function\n",
    "import matplotlib.pyplot as plt\n",
    "import seaborn as sns\n",
    "import numpy as np\n",
    "import pandas as pd\n",
    "import os, sys"
   ]
  },
  {
   "cell_type": "code",
   "execution_count": null,
   "metadata": {
    "collapsed": true
   },
   "outputs": [],
   "source": [
    "#Read the CSV file 'Myanmar World Development Indicators\"\n",
    "\n",
    "#path_census = 'https://github.com/eayoungs/datasci-etech-chall/blob/master/data/HouseholdPopulationbaseddatasetMIMUTownshipsabbreviated.csv'\n",
    "path_census = '/Users/eayoungs/repo/Code/Civic/C4SF/StateDept-EnergyChallenge/datasci-etech-chall/data/HouseholdPopulationbaseddatasetMIMUTownshipsabbreviated.csv'\n",
    "df_census = pd.read_csv(path_census, header=0, index_col=0)\n",
    "\n",
    "#path_labor = 'https://github.com/eayoungs/datasci-etech-chall/blob/master/data/HouseholdPopulationbaseddatasetMIMUTownshipsLabour.csv'\n",
    "path_labor = '/Users/eayoungs/repo/Code/Civic/C4SF/StateDept-EnergyChallenge/datasci-etech-chall/data/HouseholdPopulationbaseddatasetMIMUTownshipsLabour.csv'\n",
    "df_labor = pd.read_csv(path_labor, header=0, index_col=0)\n",
    "\n",
    "#path_dictionary = 'https://github.com/eayoungs/datasci-etech-chall/blob/master/data/datadictionaryhhpoptownships.csv'\n",
    "path_dictionary = '/Users/eayoungs/repo/Code/Civic/C4SF/StateDept-EnergyChallenge/datasci-etech-chall/data/datadictionaryhhpoptownships.csv'\n",
    "df_dictionary = pd.read_csv(path_dictionary, header=0, index_col=0)\n",
    "\n",
    "#path_indicators = 'https://github.com/eayoungs/datasci-etech-chall/blob/master/data/Myanmar%20world%20development%20indicators.csv'\n",
    "path_indicators = '/Users/eayoungs/repo/Code/Civic/C4SF/StateDept-EnergyChallenge/datasci-etech-chall/data/Myanmar world development indicators.csv'\n",
    "df_indicators = pd.read_csv(path_indicators, header=0, index_col=0)"
   ]
  },
  {
   "cell_type": "code",
   "execution_count": null,
   "metadata": {},
   "outputs": [],
   "source": [
    "%matplotlib inline\n",
    "df_census.light_t.hist()"
   ]
  },
  {
   "cell_type": "code",
   "execution_count": null,
   "metadata": {},
   "outputs": [],
   "source": [
    "df_census.light_elec.hist()"
   ]
  },
  {
   "cell_type": "code",
   "execution_count": null,
   "metadata": {},
   "outputs": [],
   "source": [
    "df_census.light_sol.hist()"
   ]
  },
  {
   "cell_type": "code",
   "execution_count": null,
   "metadata": {
    "collapsed": true
   },
   "outputs": [],
   "source": [
    "df_light = df_census[[\n",
    "'pcode_ts',\n",
    "'pop_hh',\n",
    "'pop_ins',\n",
    "'light_t',\n",
    "'light_elec',\n",
    "'light_kero',\n",
    "'light_cand',\n",
    "'light_batt',\n",
    "'light_gen',\n",
    "'light_wat',\n",
    "'light_sol',\n",
    "'light_oth']]"
   ]
  },
  {
   "cell_type": "code",
   "execution_count": null,
   "metadata": {
    "scrolled": false
   },
   "outputs": [],
   "source": [
    "df_light['light_substitute'] = df_light['light_kero'] + df_light['light_cand'] + df_light['light_batt'] + df_light['light_gen'] + df_light['light_wat'] + df_light['light_oth']\n",
    "df_light['light_substitute_rate'] = df_light['light_substitute'] / df_light['pop_hh']\n",
    "df_light['light_solar_rate'] = df_light['light_sol'] / df_light['pop_hh']\n",
    "df_light['light_elec_rate'] = df_light['light_elec'] / df_light['pop_hh']\n"
   ]
  },
  {
   "cell_type": "code",
   "execution_count": null,
   "metadata": {},
   "outputs": [],
   "source": [
    "df_light.light_substitute_rate.hist()"
   ]
  },
  {
   "cell_type": "code",
   "execution_count": null,
   "metadata": {},
   "outputs": [],
   "source": [
    "df_light.light_solar_rate.hist()"
   ]
  },
  {
   "cell_type": "code",
   "execution_count": null,
   "metadata": {},
   "outputs": [],
   "source": [
    "df_labor"
   ]
  },
  {
   "cell_type": "markdown",
   "metadata": {},
   "source": [
    "# Linear regression model\n",
    "\n",
    "### Inputs:\n",
    "- Light_elec_rate as a proxy for already on grid\n",
    "- pop_hh for population\n",
    "- Employment\n",
    "\n",
    "### Potential additional inputs:\n",
    "- Female/male headed households\n",
    "- Household size\n",
    "- Housing Type\n",
    "- Transportation\n",
    "- Education\n",
    "- Urban/Rural\n",
    "- Source of drinking water\n",
    "- Type of ownership"
   ]
  },
  {
   "cell_type": "code",
   "execution_count": null,
   "metadata": {
    "collapsed": true
   },
   "outputs": [],
   "source": [
    "import scipy.stats as stats\n",
    "import sklearn\n",
    "from sklearn.linear_model import LinearRegression"
   ]
  },
  {
   "cell_type": "code",
   "execution_count": null,
   "metadata": {
    "collapsed": true
   },
   "outputs": [],
   "source": [
    "df_model = df_light[[\n",
    "'pop_hh',\n",
    "'light_elec_rate',\n",
    "'light_solar_rate']]"
   ]
  },
  {
   "cell_type": "code",
   "execution_count": null,
   "metadata": {
    "collapsed": true
   },
   "outputs": [],
   "source": [
    "df_model_indx = df_model.reset_index()\n",
    "df_model_indx = df_model_indx[['pop_hh', 'light_elec_rate','light_solar_rate']]"
   ]
  },
  {
   "cell_type": "code",
   "execution_count": null,
   "metadata": {},
   "outputs": [],
   "source": [
    "df_model_indx"
   ]
  },
  {
   "cell_type": "code",
   "execution_count": null,
   "metadata": {},
   "outputs": [],
   "source": [
    "X = df_model_indx.drop('light_solar_rate', axis = 1)\n",
    "y = df_model_indx[['light_solar_rate']]\n",
    "y = y.round(decimals=5)\n",
    "y = y.fillna(value=0)\n",
    "lm = LinearRegression()\n",
    "lm"
   ]
  },
  {
   "cell_type": "code",
   "execution_count": null,
   "metadata": {},
   "outputs": [],
   "source": [
    "lm.fit(X, y)"
   ]
  },
  {
   "cell_type": "code",
   "execution_count": null,
   "metadata": {},
   "outputs": [],
   "source": [
    "lm.coef_"
   ]
  },
  {
   "cell_type": "code",
   "execution_count": null,
   "metadata": {},
   "outputs": [],
   "source": [
    "lm.intercept_"
   ]
  },
  {
   "cell_type": "code",
   "execution_count": null,
   "metadata": {
    "collapsed": true
   },
   "outputs": [],
   "source": [
    "from sklearn import datasets, linear_model\n",
    "from sklearn.linear_model import LinearRegression\n",
    "import statsmodels.api as sm\n",
    "from scipy import stats"
   ]
  },
  {
   "cell_type": "code",
   "execution_count": null,
   "metadata": {},
   "outputs": [],
   "source": [
    "X2 = sm.add_constant(X)\n",
    "est = sm.OLS(y, X2)\n",
    "est2 = est.fit()\n",
    "print(est2.summary())"
   ]
  },
  {
   "cell_type": "markdown",
   "metadata": {},
   "source": [
    "### Element\tDescription\n",
    "- R-squared\tThe coefficient of determination. A statistical measure of how well the regression line approximates the real data points\n",
    "- Adj. R-squared\tThe above value adjusted based on the number of observations and the degrees-of-freedom of the residuals\n",
    "- F-statistic\tA measure how significant the fit is. The mean squared error of the model divided by the mean squared error of the residuals\n",
    "- Prob (F-statistic)\tThe probability that you would get the above statistic, given the null hypothesis that they are unrelated\n",
    "- Log-likelihood\tThe log of the likelihood function.\n",
    "- AIC\tThe Akaike Information Criterion. Adjusts the log-likelihood based on the number of observations and the complexity of the model.\n",
    "- BIC\tThe Bayesian Information Criterion. Similar to the AIC, but has a higher penalty for models with more parameters.\n",
    "- The second table reports for each of the coefficients\n",
    "- coef\tThe estimated value of the coefficient\n",
    "- std err\tThe basic standard error of the estimate of the coefficient. More sophisticated errors are also available.\n",
    "- t\tThe t-statistic value. This is a measure of how statistically significant the coefficient is.\n",
    "- P > |t|\tP-value that the null-hypothesis that the coefficient = 0 is true. If it is less than the confidence level, often 0.05, it indicates that there is a statistically significant relationship between the term and the response.\n",
    "- [95.0% Conf. Interval]\tThe lower and upper values of the 95% confidence interval"
   ]
  },
  {
   "cell_type": "code",
   "execution_count": null,
   "metadata": {},
   "outputs": [],
   "source": [
    "plt.scatter(df_model_indx[['pop_hh']], Y)\n",
    "plt.xlabel('Household Population Count')\n",
    "plt.ylabel('Solar Light Rate')"
   ]
  },
  {
   "cell_type": "code",
   "execution_count": null,
   "metadata": {},
   "outputs": [],
   "source": [
    "plt.scatter(df_model_indx[['light_elec_rate']], Y)\n",
    "plt.xlabel('Electric Grid Rate')\n",
    "plt.ylabel('Solar Light Rate')"
   ]
  },
  {
   "cell_type": "markdown",
   "metadata": {},
   "source": [
    "## Add more variables\n",
    "usuact_10ab_t\n",
    "usuact_10ab_govemp_t\n",
    "usuact_10ab_priemp_t\n",
    "usuact_10ab_empyr_t\n",
    "usuact_10ab_ownacc_t\n",
    "usuact_10ab_unpfam_t\n",
    "usuact_10ab_seekw_t\n",
    "usuact_10ab_nseekw_t\n",
    "usuact_10ab_stu_t\n",
    "usuact_10ab_hhwork_t\n",
    "usuact_10ab_retir_t\n",
    "usuact_10ab_ill_t"
   ]
  },
  {
   "cell_type": "code",
   "execution_count": null,
   "metadata": {
    "collapsed": true
   },
   "outputs": [],
   "source": [
    "df_census['light_substitute'] = df_census['light_kero'] + df_census['light_cand'] + df_census['light_batt'] + df_census['light_gen'] + df_census['light_wat'] + df_census['light_oth']\n",
    "df_census['light_substitute_rate'] = df_census['light_substitute'] / df_census['pop_hh']\n",
    "df_census['light_solar_rate'] = df_census['light_sol'] / df_census['pop_hh']\n",
    "df_census['light_elec_rate'] = df_census['light_elec'] / df_census['pop_hh']\n",
    "df_census['sum_pop_hh'] = 47929999\n",
    "df_census['pop_hh_rate'] = df_census['pop_hh'] / df_census['sum_pop_hh']\n",
    "df_census['hh_m_rate'] = df_census['hh_m'] / df_census['pop_hh']\n",
    "df_census['hh_f_rate'] = df_census['hh_f'] / df_census['pop_hh']\n",
    "df_census['pop_u_rate'] = df_census['pop_u'] / df_census['pop_hh']\n",
    "df_census['pop_r_rate'] = df_census['pop_r'] / df_census['pop_hh']\n",
    "df_census['govemp_rate'] = df_census['usuact_10ab_govemp_t'] / df_census ['usuact_10ab_t']\n",
    "df_census['priemp_rate'] = df_census['usuact_10ab_priemp_t'] / df_census['usuact_10ab_t']\n",
    "df_census['empyr_rate'] = df_census['usuact_10ab_empyr_t'] / df_census['usuact_10ab_t']\n",
    "df_census['ownacc_rate'] = df_census['usuact_10ab_ownacc_t'] / df_census['usuact_10ab_t']\n",
    "df_census['unpfam_rate'] = df_census['usuact_10ab_unpfam_t'] / df_census['usuact_10ab_t']\n",
    "df_census['seekw_rate'] = df_census['usuact_10ab_seekw_t'] / df_census['usuact_10ab_t']\n",
    "df_census['stu_rate'] = df_census['usuact_10ab_stu_t'] / df_census['usuact_10ab_t']\n",
    "df_census['hhwork_rate'] = df_census['usuact_10ab_hhwork_t'] / df_census['usuact_10ab_t']\n",
    "df_census['retir_rate'] = df_census['usuact_10ab_retir_t'] / df_census['usuact_10ab_t']\n",
    "df_census['ill_rate'] = df_census['usuact_10ab_ill_t'] / df_census['usuact_10ab_t']"
   ]
  },
  {
   "cell_type": "code",
   "execution_count": null,
   "metadata": {
    "collapsed": true
   },
   "outputs": [],
   "source": [
    "df_model_more = df_census[[\n",
    "'pcode_ts',\n",
    "'pop_hh_rate',\n",
    "'hh_m_rate',\n",
    "'hh_f_rate',\n",
    "'pop_r_rate',\n",
    "'pop_u_rate',\n",
    "'govemp_rate',\n",
    "'priemp_rate',\n",
    "'empyr_rate',\n",
    "'ownacc_rate',\n",
    "'unpfam_rate',\n",
    "'seekw_rate',\n",
    "'stu_rate',\n",
    "'hhwork_rate',\n",
    "'retir_rate',\n",
    "'ill_rate',\n",
    "'light_elec_rate',\n",
    "'light_solar_rate',\n",
    "'light_substitute_rate']]"
   ]
  },
  {
   "cell_type": "code",
   "execution_count": null,
   "metadata": {
    "collapsed": true
   },
   "outputs": [],
   "source": [
    "df_model_more\n",
    "df_model_more = df_model_more.set_index(['pcode_ts'])"
   ]
  },
  {
   "cell_type": "code",
   "execution_count": null,
   "metadata": {},
   "outputs": [],
   "source": [
    "df_model_more"
   ]
  },
  {
   "cell_type": "code",
   "execution_count": null,
   "metadata": {},
   "outputs": [],
   "source": [
    "Xm = df_model_more.drop('light_solar_rate', axis = 1)\n",
    "ym = df_model_more[['light_solar_rate']]\n",
    "Xm = Xm.round(decimals=5)\n",
    "Xm = Xm.fillna(value=0)\n",
    "ym = ym.round(decimals=5)\n",
    "ym = ym.fillna(value=0)\n",
    "lm = LinearRegression()\n",
    "lm"
   ]
  },
  {
   "cell_type": "code",
   "execution_count": null,
   "metadata": {},
   "outputs": [],
   "source": [
    "lm.fit(Xm, ym)"
   ]
  },
  {
   "cell_type": "code",
   "execution_count": null,
   "metadata": {},
   "outputs": [],
   "source": [
    "Xm2 = sm.add_constant(Xm)\n",
    "estm = sm.OLS(ym, Xm2)\n",
    "est2m = estm.fit()\n",
    "print(est2m.summary())"
   ]
  },
  {
   "cell_type": "code",
   "execution_count": null,
   "metadata": {
    "collapsed": true
   },
   "outputs": [],
   "source": []
  }
 ],
 "metadata": {
  "kernelspec": {
   "display_name": "Python 2",
   "language": "python",
   "name": "python2"
  },
  "language_info": {
   "codemirror_mode": {
    "name": "ipython",
    "version": 2
   },
   "file_extension": ".py",
   "mimetype": "text/x-python",
   "name": "python",
   "nbconvert_exporter": "python",
   "pygments_lexer": "ipython2",
   "version": "2.7.12"
  }
 },
 "nbformat": 4,
 "nbformat_minor": 2
}
